{
 "cells": [
  {
   "cell_type": "code",
   "execution_count": 17,
   "id": "2f913c0b",
   "metadata": {},
   "outputs": [],
   "source": [
    "import angr\n",
    "from angrutils import *"
   ]
  },
  {
   "cell_type": "code",
   "execution_count": 18,
   "id": "59cca01d",
   "metadata": {},
   "outputs": [
    {
     "name": "stderr",
     "output_type": "stream",
     "text": [
      "WARNING  | 2023-02-26 01:16:34,153 | cle.loader     | The main binary is a position-independent executable. It is being loaded with a base address of 0x400000.\n"
     ]
    },
    {
     "name": "stdout",
     "output_type": "stream",
     "text": [
      "This is the graph: DiGraph with 68 nodes and 85 edges\n",
      "It has 68 nodes and 85 edges\n"
     ]
    }
   ],
   "source": [
    "p = angr.Project(\"fauxware\", load_options={'auto_load_libs': False})\n",
    "\n",
    "cfg = p.analyses.CFGEmulated(keep_state=True)\n",
    "#cfg = p.analyses.CFGFast()\n",
    "\n",
    "print(\"This is the graph:\", cfg.graph)\n",
    "print(\"It has %d nodes and %d edges\" % (len(cfg.graph.nodes()), len(cfg.graph.edges())))\n",
    "\n",
    "plot_cfg(cfg, \"cfg-orig\", asminst=True, remove_imports=True, remove_path_terminator=True)"
   ]
  },
  {
   "cell_type": "code",
   "execution_count": 19,
   "id": "399adc7e",
   "metadata": {},
   "outputs": [
    {
     "name": "stderr",
     "output_type": "stream",
     "text": [
      "WARNING  | 2023-02-26 01:16:37,161 | cle.loader     | The main binary is a position-independent executable. It is being loaded with a base address of 0x400000.\n"
     ]
    },
    {
     "name": "stdout",
     "output_type": "stream",
     "text": [
      "This is the graph: DiGraph with 64 nodes and 83 edges\n",
      "It has 64 nodes and 83 edges\n"
     ]
    }
   ],
   "source": [
    "p = angr.Project(\"fauxware-mod\", load_options={'auto_load_libs': False})\n",
    "\n",
    "cfg = p.analyses.CFGEmulated(keep_state=True)\n",
    "#cfg = p.analyses.CFGFast()\n",
    "\n",
    "print(\"This is the graph:\", cfg.graph)\n",
    "print(\"It has %d nodes and %d edges\" % (len(cfg.graph.nodes()), len(cfg.graph.edges())))\n",
    "\n",
    "plot_cfg(cfg, \"cfg-mod\", asminst=True, remove_imports=True, remove_path_terminator=True)"
   ]
  },
  {
   "cell_type": "code",
   "execution_count": 20,
   "id": "deaafa0a",
   "metadata": {},
   "outputs": [
    {
     "name": "stderr",
     "output_type": "stream",
     "text": [
      "WARNING  | 2023-02-26 01:16:39,076 | cle.loader     | The main binary is a position-independent executable. It is being loaded with a base address of 0x400000.\n"
     ]
    },
    {
     "name": "stdout",
     "output_type": "stream",
     "text": [
      "This is the graph: DiGraph with 71 nodes and 92 edges\n",
      "It has 71 nodes and 92 edges\n"
     ]
    }
   ],
   "source": [
    "p = angr.Project(\"fauxware-diff\", load_options={'auto_load_libs': False})\n",
    "\n",
    "cfg = p.analyses.CFGEmulated(keep_state=True)\n",
    "#cfg = p.analyses.CFGFast()\n",
    "\n",
    "print(\"This is the graph:\", cfg.graph)\n",
    "print(\"It has %d nodes and %d edges\" % (len(cfg.graph.nodes()), len(cfg.graph.edges())))\n",
    "\n",
    "plot_cfg(cfg, \"cfg-diff\", asminst=True, remove_imports=True, remove_path_terminator=True)"
   ]
  },
  {
   "cell_type": "code",
   "execution_count": null,
   "id": "93984cf1",
   "metadata": {},
   "outputs": [],
   "source": []
  }
 ],
 "metadata": {
  "kernelspec": {
   "display_name": "Python 3 (ipykernel)",
   "language": "python",
   "name": "python3"
  },
  "language_info": {
   "codemirror_mode": {
    "name": "ipython",
    "version": 3
   },
   "file_extension": ".py",
   "mimetype": "text/x-python",
   "name": "python",
   "nbconvert_exporter": "python",
   "pygments_lexer": "ipython3",
   "version": "3.8.16"
  }
 },
 "nbformat": 4,
 "nbformat_minor": 5
}
