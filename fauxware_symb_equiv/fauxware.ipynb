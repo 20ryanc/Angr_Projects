{
 "cells": [
  {
   "cell_type": "code",
   "execution_count": 1,
   "id": "f15f541b",
   "metadata": {},
   "outputs": [],
   "source": [
    "import angr\n",
    "import claripy\n",
    "from angr.sim_type import SimTypePointer, SimTypeFunction, SimTypeChar, SimTypeInt, parse_defns\n",
    "from angr.errors import AngrCallableMultistateError"
   ]
  },
  {
   "cell_type": "code",
   "execution_count": 2,
   "id": "395543e0",
   "metadata": {},
   "outputs": [],
   "source": [
    "#angr logging is way too verbose\n",
    "import logging\n",
    "log_things = [\"angr\", \"pyvex\", \"claripy\", \"cle\"]\n",
    "for log in log_things:\n",
    "    logger = logging.getLogger(log)\n",
    "    logger.disabled = True\n",
    "    logger.propagate = False"
   ]
  },
  {
   "cell_type": "code",
   "execution_count": 3,
   "id": "172f5283",
   "metadata": {},
   "outputs": [],
   "source": [
    "password = claripy.BVS('pass_arg', 9*8)\n",
    "pass_arg = angr.PointerWrapper(password, buffer=True)\n",
    "simfile = angr.SimFile('userargs', content='password')\n",
    "charstar = SimTypePointer(SimTypeChar())\n",
    "prototype = SimTypeFunction((charstar, charstar), SimTypeInt(False))"
   ]
  },
  {
   "cell_type": "code",
   "execution_count": 4,
   "id": "866f835c",
   "metadata": {},
   "outputs": [],
   "source": [
    "def loadproj(p, addr):\n",
    "    state = p.factory.call_state(addr, \"userargs\", pass_arg, prototype=prototype)\n",
    "    state.fs.insert(\"userargs\", simfile)\n",
    "    simgr = p.factory.simgr(state)\n",
    "    simgr.run()\n",
    "    return simgr"
   ]
  },
  {
   "cell_type": "code",
   "execution_count": 5,
   "id": "e62a881b",
   "metadata": {},
   "outputs": [],
   "source": [
    "def getconcrete(p, addr, password):\n",
    "    state = p.factory.call_state(addr, \"userargs\", password, prototype=prototype)\n",
    "    state.fs.insert(\"userargs\", simfile)\n",
    "    simgr = p.factory.simgr(state)\n",
    "    simgr.run()\n",
    "    return simgr.deadended[0].regs.eax._model_concrete.value"
   ]
  },
  {
   "cell_type": "code",
   "execution_count": 6,
   "id": "e332c248",
   "metadata": {},
   "outputs": [],
   "source": [
    "#fauxware analysis"
   ]
  },
  {
   "cell_type": "code",
   "execution_count": 7,
   "id": "3e799e9d",
   "metadata": {},
   "outputs": [
    {
     "name": "stderr",
     "output_type": "stream",
     "text": [
      "The main binary is a position-independent executable. It is being loaded with a base address of 0x400000.\n"
     ]
    },
    {
     "name": "stdout",
     "output_type": "stream",
     "text": [
      "[b'SOSNEAKY\\x00', 1]\n",
      "[b'\\x01\\x01\\x01\\x01\\x01\\x01\\x01\\x00\\x00', 0]\n",
      "[b'password\\x00', 1]\n"
     ]
    }
   ],
   "source": [
    "p = angr.Project('fauxware', auto_load_libs=False)\n",
    "simgr = loadproj(p, 0x401209)\n",
    "auth_args = []\n",
    "for end in simgr.deadended:\n",
    "    auth_args.append([end.solver.eval(password,cast_to=bytes),\n",
    "                     end.regs.eax._model_concrete.value])\n",
    "for arg in auth_args:\n",
    "    print(arg)"
   ]
  },
  {
   "cell_type": "code",
   "execution_count": 8,
   "id": "0fd940d4",
   "metadata": {},
   "outputs": [],
   "source": [
    "def auth(thing):\n",
    "    return getconcrete(p, 0x401209, thing)"
   ]
  },
  {
   "cell_type": "code",
   "execution_count": 9,
   "id": "59cb0379",
   "metadata": {},
   "outputs": [],
   "source": [
    "#pmod fauxware with functionally identical strcmp"
   ]
  },
  {
   "cell_type": "code",
   "execution_count": 10,
   "id": "47d87d31",
   "metadata": {},
   "outputs": [
    {
     "name": "stderr",
     "output_type": "stream",
     "text": [
      "The main binary is a position-independent executable. It is being loaded with a base address of 0x400000.\n"
     ]
    },
    {
     "name": "stdout",
     "output_type": "stream",
     "text": [
      "[b'\\xac\\x00\\x00\\x00\\x00\\x00\\x00\\x00\\x00', 0]\n",
      "[b'S\\x00\\x00\\x00\\x00\\x00\\x00\\x00\\x00', 0]\n",
      "[b'p\\x00\\x00\\x00\\x00\\x00\\x00\\x00\\x00', 0]\n",
      "[b'SO\\x00\\x00\\x00\\x00\\x00\\x00\\x00', 0]\n",
      "[b'pa\\x00\\x00\\x00\\x00\\x00\\x00\\x00', 0]\n",
      "[b'SOS\\x00\\x00\\x00\\x00\\x00\\x00', 0]\n",
      "[b'pas\\x00\\x00\\x00\\x00\\x00\\x00', 0]\n",
      "[b'SOSN\\x00\\x00\\x00\\x00\\x00', 0]\n",
      "[b'pass\\x00\\x00\\x00\\x00\\x00', 0]\n",
      "[b'SOSNEAKY\\x00', 1]\n",
      "[b'SOSNE\\x00\\x00\\x00\\x00', 0]\n",
      "[b'passw\\x00\\x00\\x00\\x00', 0]\n",
      "[b'SOSNEA\\x00\\x00\\x00', 0]\n",
      "[b'passwo\\x00\\x00\\x00', 0]\n",
      "[b'SOSNEAK\\x00\\x00', 0]\n",
      "[b'passwor\\x00\\x00', 0]\n",
      "[b'SOSNEAKY\\x01', 0]\n",
      "[b'password\\x01', 0]\n",
      "[b'password\\x00', 1]\n"
     ]
    }
   ],
   "source": [
    "p_mod = angr.Project('fauxware-mod', auto_load_libs=False)\n",
    "simgr_mod = loadproj(p_mod, 0x4011e9)\n",
    "auth_mod_args = []\n",
    "for end in simgr_mod.deadended:\n",
    "    auth_mod_args.append([end.solver.eval(password,cast_to=bytes),\n",
    "                     end.regs.eax._model_concrete.value])\n",
    "for arg in auth_mod_args:\n",
    "    print(arg)"
   ]
  },
  {
   "cell_type": "code",
   "execution_count": 11,
   "id": "b52e9684",
   "metadata": {},
   "outputs": [],
   "source": [
    "def auth_mod(password):\n",
    "    return getconcrete(p_mod, 0x4011e9, password)"
   ]
  },
  {
   "cell_type": "code",
   "execution_count": 12,
   "id": "ed67fbc6",
   "metadata": {},
   "outputs": [],
   "source": [
    "#different authentication than fauxware"
   ]
  },
  {
   "cell_type": "code",
   "execution_count": 13,
   "id": "f9fe3e5a",
   "metadata": {},
   "outputs": [
    {
     "name": "stderr",
     "output_type": "stream",
     "text": [
      "The main binary is a position-independent executable. It is being loaded with a base address of 0x400000.\n"
     ]
    },
    {
     "name": "stdout",
     "output_type": "stream",
     "text": [
      "[b'\\x00\\x00\\x00\\x00\\x00\\x00\\x00\\x00\\x00', 0]\n",
      "[b'\\x01\\x00\\x00\\x00\\x00\\x00\\x00\\x00\\x00', 0]\n",
      "[b'\\x01\\xff\\x00\\x00\\x00\\x00\\x00\\x00\\x00', 0]\n",
      "[b'\\xff\\xff\\x80\\x00\\x01\\x04\\x08\\x08\\x10', 0]\n",
      "[b'RNRMD@JX\\x00', 1]\n",
      "[b'\\x01\\x01\\x01\\x01\\x00\\x01\\x02\\x04\\x80', 0]\n",
      "[b'RNRMD@JX\\x80', 1]\n",
      "[b'\\x01\\x01\\x01\\x01\\xff\\x00\\x00\\x00\\x00', 0]\n",
      "[b'\\x10\\x01\\x02\\x01\\x80\\x01\\x00\\x04\\x80', 0]\n",
      "[b'\\x80\\x10\\x01\\x10 \\x02\\xff\\x00\\x00', 0]\n",
      "[b' \\x04\\x02\\x10\\x10\\x01\\x02\\x04\\x00', 0]\n",
      "[b'password\\x00', 1]\n",
      "[b'\\xff\\xff\\xff\\xff\\xff\\xff@\\xff\\x04', 0]\n"
     ]
    }
   ],
   "source": [
    "p_diff = angr.Project('fauxware-diff', auto_load_libs=False)\n",
    "simgr_diff = loadproj(p_diff, 0x401209)\n",
    "auth_diff_args = []\n",
    "for end in simgr_diff.deadended:\n",
    "    auth_diff_args.append([end.solver.eval(password,cast_to=bytes),\n",
    "                     end.regs.eax._model_concrete.value])\n",
    "for arg in auth_diff_args:\n",
    "    print(arg)"
   ]
  },
  {
   "cell_type": "code",
   "execution_count": 14,
   "id": "0fcb498d",
   "metadata": {},
   "outputs": [],
   "source": [
    "def auth_diff(password):\n",
    "    return getconcrete(p_diff, 0x401209, password)"
   ]
  },
  {
   "cell_type": "code",
   "execution_count": 15,
   "id": "f320ffb1",
   "metadata": {},
   "outputs": [],
   "source": [
    "#Analysis of equivalence of fauxware and itself"
   ]
  },
  {
   "cell_type": "code",
   "execution_count": 16,
   "id": "1cd9fa1f",
   "metadata": {},
   "outputs": [
    {
     "name": "stdout",
     "output_type": "stream",
     "text": [
      "\n",
      "[]\n"
     ]
    }
   ],
   "source": [
    "orig_orig_diff = []\n",
    "for case in auth_args:\n",
    "    if auth(case[0]) != case[1]:\n",
    "        print(\"pass = \" + str(case[0]) + \", result = \" + str(auth(case[0])) +\" actual = \"+str(case[1]))\n",
    "        orig_orig_diff.append(case[0])\n",
    "print()\n",
    "for case in auth_args:\n",
    "    if auth(case[0]) != case[1]:\n",
    "        print(\"pass = \" + str(case[0]) + \", result = \" + str(auth(case[0])) +\" actual = \"+str(case[1]))\n",
    "        orig_orig_diff.append(case[0])\n",
    "print(orig_orig_diff)"
   ]
  },
  {
   "cell_type": "code",
   "execution_count": 17,
   "id": "a1543f05",
   "metadata": {},
   "outputs": [],
   "source": [
    "#Analysis between fauxware (auth_args) and fauxware-mod (auth_mod_args) should be functionally equiv"
   ]
  },
  {
   "cell_type": "code",
   "execution_count": 18,
   "id": "89fcea04",
   "metadata": {},
   "outputs": [
    {
     "name": "stdout",
     "output_type": "stream",
     "text": [
      "\n",
      "pass = b'S\\x00\\x00\\x00\\x00\\x00\\x00\\x00\\x00', result = 1 actual = 0\n",
      "pass = b'p\\x00\\x00\\x00\\x00\\x00\\x00\\x00\\x00', result = 1 actual = 0\n",
      "pass = b'SO\\x00\\x00\\x00\\x00\\x00\\x00\\x00', result = 1 actual = 0\n",
      "pass = b'pa\\x00\\x00\\x00\\x00\\x00\\x00\\x00', result = 1 actual = 0\n",
      "pass = b'SOS\\x00\\x00\\x00\\x00\\x00\\x00', result = 1 actual = 0\n",
      "pass = b'pas\\x00\\x00\\x00\\x00\\x00\\x00', result = 1 actual = 0\n",
      "pass = b'SOSN\\x00\\x00\\x00\\x00\\x00', result = 1 actual = 0\n",
      "pass = b'pass\\x00\\x00\\x00\\x00\\x00', result = 1 actual = 0\n",
      "pass = b'SOSNE\\x00\\x00\\x00\\x00', result = 1 actual = 0\n",
      "pass = b'passw\\x00\\x00\\x00\\x00', result = 1 actual = 0\n",
      "pass = b'SOSNEA\\x00\\x00\\x00', result = 1 actual = 0\n",
      "pass = b'passwo\\x00\\x00\\x00', result = 1 actual = 0\n",
      "pass = b'SOSNEAK\\x00\\x00', result = 1 actual = 0\n",
      "pass = b'passwor\\x00\\x00', result = 1 actual = 0\n",
      "pass = b'SOSNEAKY\\x01', result = 1 actual = 0\n",
      "pass = b'password\\x01', result = 1 actual = 0\n",
      "[b'S\\x00\\x00\\x00\\x00\\x00\\x00\\x00\\x00', b'p\\x00\\x00\\x00\\x00\\x00\\x00\\x00\\x00', b'SO\\x00\\x00\\x00\\x00\\x00\\x00\\x00', b'pa\\x00\\x00\\x00\\x00\\x00\\x00\\x00', b'SOS\\x00\\x00\\x00\\x00\\x00\\x00', b'pas\\x00\\x00\\x00\\x00\\x00\\x00', b'SOSN\\x00\\x00\\x00\\x00\\x00', b'pass\\x00\\x00\\x00\\x00\\x00', b'SOSNE\\x00\\x00\\x00\\x00', b'passw\\x00\\x00\\x00\\x00', b'SOSNEA\\x00\\x00\\x00', b'passwo\\x00\\x00\\x00', b'SOSNEAK\\x00\\x00', b'passwor\\x00\\x00', b'SOSNEAKY\\x01', b'password\\x01']\n"
     ]
    }
   ],
   "source": [
    "orig_mod_diff = []\n",
    "for case in auth_args:\n",
    "    if auth_mod(case[0]) != case[1]:\n",
    "        print(\"pass = \" + str(case[0]) + \", result = \" + str(auth_mod(case[0])) +\" actual = \"+str(case[1]))\n",
    "        orig_mod_diff.append(case[0])\n",
    "print()\n",
    "for case in auth_mod_args:\n",
    "    if auth(case[0]) != case[1]:\n",
    "        print(\"pass = \" + str(case[0]) + \", result = \" + str(auth(case[0])) +\" actual = \"+str(case[1]))\n",
    "        orig_mod_diff.append(case[0])\n",
    "print(orig_mod_diff)"
   ]
  },
  {
   "cell_type": "code",
   "execution_count": 19,
   "id": "883c52c7",
   "metadata": {},
   "outputs": [
    {
     "data": {
      "text/plain": [
       "<Symbol \"strcmp\" in cle##externs at 0x500028>"
      ]
     },
     "execution_count": 19,
     "metadata": {},
     "output_type": "execute_result"
    }
   ],
   "source": [
    "p.loader.find_symbol(\"strcmp\")"
   ]
  },
  {
   "cell_type": "code",
   "execution_count": 29,
   "id": "af24cb95",
   "metadata": {},
   "outputs": [],
   "source": [
    "strcmp = p.factory.callable(0x500028, concrete_only=True, prototype=prototype)"
   ]
  },
  {
   "cell_type": "code",
   "execution_count": 33,
   "id": "c4681698",
   "metadata": {},
   "outputs": [
    {
     "data": {
      "text/plain": [
       "<BV32 0x0>"
      ]
     },
     "execution_count": 33,
     "metadata": {},
     "output_type": "execute_result"
    }
   ],
   "source": [
    "#bug?? don't think this should be happening to angr\n",
    "strcmp(\"asdf\",\"a\")"
   ]
  },
  {
   "cell_type": "code",
   "execution_count": 35,
   "id": "5473839c",
   "metadata": {},
   "outputs": [
    {
     "data": {
      "text/plain": [
       "<BV32 0xffffffff>"
      ]
     },
     "execution_count": 35,
     "metadata": {},
     "output_type": "execute_result"
    }
   ],
   "source": [
    "strcmp(\"asdf\",\"f\")"
   ]
  },
  {
   "cell_type": "code",
   "execution_count": 22,
   "id": "ffb00690",
   "metadata": {},
   "outputs": [],
   "source": [
    "#Analysis between fauxware (auth_args) and fauxware-diff (auth_diff_args)"
   ]
  },
  {
   "cell_type": "code",
   "execution_count": 23,
   "id": "d0d1c7ec",
   "metadata": {},
   "outputs": [
    {
     "name": "stdout",
     "output_type": "stream",
     "text": [
      "pass = b'SOSNEAKY\\x00', result = 0 actual = 1\n",
      "\n",
      "pass = b'RNRMD@JX\\x00', result = 0 actual = 1\n",
      "pass = b'RNRMD@JX\\x80', result = 0 actual = 1\n",
      "[b'SOSNEAKY\\x00', b'RNRMD@JX\\x00', b'RNRMD@JX\\x80']\n"
     ]
    }
   ],
   "source": [
    "orig_diff_diff = []\n",
    "for case in auth_args:\n",
    "    if auth_diff(case[0]) != case[1]:\n",
    "        print(\"pass = \" + str(case[0]) + \", result = \" + str(auth_diff(case[0])) +\" actual = \"+str(case[1]))\n",
    "        orig_diff_diff.append(case[0])\n",
    "print()\n",
    "for case in auth_diff_args:\n",
    "    if auth(case[0]) != case[1]:\n",
    "        print(\"pass = \" + str(case[0]) + \", result = \" + str(auth(case[0])) +\" actual = \"+str(case[1]))\n",
    "        orig_diff_diff.append(case[0])\n",
    "print(orig_diff_diff)"
   ]
  },
  {
   "cell_type": "code",
   "execution_count": null,
   "id": "bc99d157",
   "metadata": {},
   "outputs": [],
   "source": []
  }
 ],
 "metadata": {
  "kernelspec": {
   "display_name": "Python 3 (ipykernel)",
   "language": "python",
   "name": "python3"
  },
  "language_info": {
   "codemirror_mode": {
    "name": "ipython",
    "version": 3
   },
   "file_extension": ".py",
   "mimetype": "text/x-python",
   "name": "python",
   "nbconvert_exporter": "python",
   "pygments_lexer": "ipython3",
   "version": "3.8.16"
  }
 },
 "nbformat": 4,
 "nbformat_minor": 5
}
