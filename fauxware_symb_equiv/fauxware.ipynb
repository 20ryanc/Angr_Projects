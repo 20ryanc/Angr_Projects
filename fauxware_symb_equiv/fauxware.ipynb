{
 "cells": [
  {
   "cell_type": "code",
   "execution_count": 46,
   "id": "f15f541b",
   "metadata": {},
   "outputs": [],
   "source": [
    "import angr\n",
    "import claripy\n",
    "from angr.sim_type import SimTypePointer, SimTypeFunction, SimTypeChar, SimTypeInt, parse_defns\n",
    "from angr.errors import AngrCallableMultistateError"
   ]
  },
  {
   "cell_type": "code",
   "execution_count": 47,
   "id": "395543e0",
   "metadata": {},
   "outputs": [],
   "source": [
    "#angr logging is way too verbose\n",
    "import logging\n",
    "log_things = [\"angr\", \"pyvex\", \"claripy\", \"cle\"]\n",
    "for log in log_things:\n",
    "    logger = logging.getLogger(log)\n",
    "    logger.disabled = True\n",
    "    logger.propagate = False"
   ]
  },
  {
   "cell_type": "code",
   "execution_count": 48,
   "id": "172f5283",
   "metadata": {},
   "outputs": [],
   "source": [
    "charstar = SimTypePointer(SimTypeChar())\n",
    "prototype = SimTypeFunction((charstar, charstar), SimTypeInt(False))"
   ]
  },
  {
   "cell_type": "code",
   "execution_count": 49,
   "id": "866f835c",
   "metadata": {},
   "outputs": [],
   "source": [
    "def loadproj(p, addr, find_addr, password):\n",
    "    state = p.factory.call_state(addr, \"userargs\", password, prototype=prototype)\n",
    "    simgr = p.factory.simgr(state)\n",
    "    simgr.explore(find=(find_addr,), avoid=())\n",
    "    return simgr"
   ]
  },
  {
   "cell_type": "code",
   "execution_count": 50,
   "id": "e62a881b",
   "metadata": {},
   "outputs": [],
   "source": [
    "def getconcrete(p, addr, password):\n",
    "    state = p.factory.call_state(addr, \"userargs\", password, prototype=prototype)\n",
    "    simgr = p.factory.simgr(state)\n",
    "    simgr.run()\n",
    "    return simgr.deadended[0].regs.eax._model_concrete.value"
   ]
  },
  {
   "cell_type": "code",
   "execution_count": 51,
   "id": "e332c248",
   "metadata": {},
   "outputs": [],
   "source": [
    "#fauxware analysis"
   ]
  },
  {
   "cell_type": "code",
   "execution_count": 52,
   "id": "3e799e9d",
   "metadata": {},
   "outputs": [
    {
     "name": "stderr",
     "output_type": "stream",
     "text": [
      "The main binary is a position-independent executable. It is being loaded with a base address of 0x400000.\n"
     ]
    }
   ],
   "source": [
    "password_orig = claripy.BVS('pass_arg', 8*100)\n",
    "pass_arg_orig = angr.PointerWrapper(password_orig, buffer=True)\n",
    "p = angr.Project('fauxware', auto_load_libs=False)\n",
    "simgr = loadproj(p, 0x401209, 0x40124a, pass_arg_orig)\n",
    "p_state = simgr.found[0]"
   ]
  },
  {
   "cell_type": "code",
   "execution_count": 53,
   "id": "59cb0379",
   "metadata": {},
   "outputs": [],
   "source": [
    "#pmod fauxware with functionally identical strcmp"
   ]
  },
  {
   "cell_type": "code",
   "execution_count": 54,
   "id": "47d87d31",
   "metadata": {},
   "outputs": [
    {
     "name": "stderr",
     "output_type": "stream",
     "text": [
      "The main binary is a position-independent executable. It is being loaded with a base address of 0x400000.\n"
     ]
    }
   ],
   "source": [
    "password_mod = claripy.BVS('pass_arg', 8*100)\n",
    "pass_arg_mod = angr.PointerWrapper(password_mod, buffer=True)\n",
    "p_mod = angr.Project('fauxware-mod', auto_load_libs=False)\n",
    "simgr_mod = loadproj(p_mod, 0x4011e9, 0x401238, pass_arg_mod)\n",
    "p_mod_state = simgr_mod.found[0]"
   ]
  },
  {
   "cell_type": "code",
   "execution_count": 55,
   "id": "ed67fbc6",
   "metadata": {},
   "outputs": [],
   "source": [
    "#different authentication than fauxware"
   ]
  },
  {
   "cell_type": "code",
   "execution_count": 56,
   "id": "f9fe3e5a",
   "metadata": {},
   "outputs": [
    {
     "name": "stderr",
     "output_type": "stream",
     "text": [
      "The main binary is a position-independent executable. It is being loaded with a base address of 0x400000.\n"
     ]
    }
   ],
   "source": [
    "password_diff = claripy.BVS('pass_arg', 8*100)\n",
    "pass_arg_diff = angr.PointerWrapper(password_diff, buffer=True)\n",
    "p_diff = angr.Project('fauxware-diff', auto_load_libs=False)\n",
    "simgr_diff = loadproj(p_diff, 0x401209, 0x4012a3, pass_arg_diff)\n",
    "p_diff_state = simgr_diff.found[0]"
   ]
  },
  {
   "cell_type": "code",
   "execution_count": 57,
   "id": "f320ffb1",
   "metadata": {},
   "outputs": [],
   "source": [
    "#Analysis of equivalence of fauxware and itself"
   ]
  },
  {
   "cell_type": "code",
   "execution_count": 58,
   "id": "1cd9fa1f",
   "metadata": {},
   "outputs": [
    {
     "name": "stdout",
     "output_type": "stream",
     "text": [
      "Same Function\n"
     ]
    }
   ],
   "source": [
    "sol_orig_orig = claripy.Solver()\n",
    "for i in p_state.solver.constraints:\n",
    "    sol_orig_orig.add(i)\n",
    "for i in p_state.solver.constraints:\n",
    "    sol_orig_orig.add(i)\n",
    "if sol_orig_orig.satisfiable(extra_constraints=(password_orig == password_orig,)):\n",
    "    print(\"Same Function\")\n",
    "else:\n",
    "    print(\"Diff Function\")"
   ]
  },
  {
   "cell_type": "code",
   "execution_count": 59,
   "id": "a1543f05",
   "metadata": {},
   "outputs": [],
   "source": [
    "#Analysis between fauxware (auth_args) and fauxware-mod (auth_mod_args) should be functionally equiv"
   ]
  },
  {
   "cell_type": "code",
   "execution_count": 60,
   "id": "89fcea04",
   "metadata": {},
   "outputs": [
    {
     "name": "stdout",
     "output_type": "stream",
     "text": [
      "Same Function\n"
     ]
    }
   ],
   "source": [
    "sol_orig_mod = claripy.Solver()\n",
    "for i in p_state.solver.constraints:\n",
    "    sol_orig_mod.add(i)\n",
    "for i in p_mod_state.solver.constraints:\n",
    "    sol_orig_mod.add(i)\n",
    "if sol_orig_mod.satisfiable(extra_constraints=(password_orig == password_mod,)):\n",
    "    print(\"Same Function\")\n",
    "else:\n",
    "    print(\"Diff Function\")"
   ]
  },
  {
   "cell_type": "code",
   "execution_count": 61,
   "id": "ffb00690",
   "metadata": {},
   "outputs": [],
   "source": [
    "#Analysis between fauxware (auth_args) and fauxware-diff (auth_diff_args)"
   ]
  },
  {
   "cell_type": "code",
   "execution_count": 67,
   "id": "d0d1c7ec",
   "metadata": {},
   "outputs": [
    {
     "name": "stdout",
     "output_type": "stream",
     "text": [
      "Diff Function\n",
      "[b'SOSNEAKY']\n",
      "[b'RNRMD@JX']\n"
     ]
    }
   ],
   "source": [
    "sol_orig_diff = claripy.Solver()\n",
    "for i in p_state.solver.constraints:\n",
    "    sol_orig_diff.add(i)\n",
    "for i in p_diff_state.solver.constraints:\n",
    "    sol_orig_diff.add(i)\n",
    "if sol_orig_diff.satisfiable(extra_constraints=(password_orig == password_diff,)):\n",
    "    print(\"Same Function\")\n",
    "else:\n",
    "    print(\"Diff Function\")\n",
    "    sol_orig_diff.add(password_orig != password_diff)\n",
    "    a = [i.to_bytes(100, 'big') for i in sol_orig_diff.eval(password_orig,10)]\n",
    "    a = list(set([i[0:i.find(b'\\x00')] for i in a]))\n",
    "    b = [i.to_bytes(100, 'big') for i in sol_orig_diff.eval(password_diff,10)]\n",
    "    b = list(set([i[0:i.find(b'\\x00')] for i in b]))\n",
    "    print(a)\n",
    "    print(b)\n",
    "    "
   ]
  },
  {
   "cell_type": "code",
   "execution_count": null,
   "id": "44f4436c",
   "metadata": {},
   "outputs": [],
   "source": []
  }
 ],
 "metadata": {
  "kernelspec": {
   "display_name": "Python 3 (ipykernel)",
   "language": "python",
   "name": "python3"
  },
  "language_info": {
   "codemirror_mode": {
    "name": "ipython",
    "version": 3
   },
   "file_extension": ".py",
   "mimetype": "text/x-python",
   "name": "python",
   "nbconvert_exporter": "python",
   "pygments_lexer": "ipython3",
   "version": "3.8.16"
  }
 },
 "nbformat": 4,
 "nbformat_minor": 5
}
