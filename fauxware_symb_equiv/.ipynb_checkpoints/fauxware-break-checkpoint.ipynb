{
 "cells": [
  {
   "cell_type": "code",
   "execution_count": 1,
   "id": "f15f541b",
   "metadata": {},
   "outputs": [],
   "source": [
    "import angr\n",
    "import claripy\n",
    "from angr.sim_type import SimTypePointer, SimTypeFunction, SimTypeChar, SimTypeInt, parse_defns\n",
    "from angr.errors import AngrCallableMultistateError"
   ]
  },
  {
   "cell_type": "code",
   "execution_count": 2,
   "id": "395543e0",
   "metadata": {},
   "outputs": [],
   "source": [
    "#angr logging is way too verbose\n",
    "import logging\n",
    "log_things = [\"angr\", \"pyvex\", \"claripy\", \"cle\"]\n",
    "for log in log_things:\n",
    "    logger = logging.getLogger(log)\n",
    "    logger.disabled = True\n",
    "    logger.propagate = False"
   ]
  },
  {
   "cell_type": "code",
   "execution_count": 3,
   "id": "172f5283",
   "metadata": {},
   "outputs": [],
   "source": [
    "charstar = SimTypePointer(SimTypeChar())\n",
    "prototype = SimTypeFunction((charstar, charstar), SimTypeInt(False))"
   ]
  },
  {
   "cell_type": "code",
   "execution_count": 4,
   "id": "866f835c",
   "metadata": {},
   "outputs": [],
   "source": [
    "def loadproj(p, addr, find_addr, password):\n",
    "    state = p.factory.call_state(addr, \"userargs\", password, prototype=prototype)\n",
    "    simgr = p.factory.simgr(state)\n",
    "    simgr.explore(find=(find_addr,), avoid=())\n",
    "    return simgr"
   ]
  },
  {
   "cell_type": "code",
   "execution_count": 5,
   "id": "e62a881b",
   "metadata": {},
   "outputs": [],
   "source": [
    "def getconcrete(p, addr, password):\n",
    "    state = p.factory.call_state(addr, \"userargs\", password, prototype=prototype)\n",
    "    simgr = p.factory.simgr(state)\n",
    "    simgr.run()\n",
    "    return simgr.deadended[0].regs.eax._model_concrete.value"
   ]
  },
  {
   "cell_type": "code",
   "execution_count": 6,
   "id": "d1ba8010",
   "metadata": {},
   "outputs": [],
   "source": [
    "#fauxware analysis"
   ]
  },
  {
   "cell_type": "code",
   "execution_count": 7,
   "id": "55aa9b69",
   "metadata": {},
   "outputs": [
    {
     "name": "stderr",
     "output_type": "stream",
     "text": [
      "The main binary is a position-independent executable. It is being loaded with a base address of 0x400000.\n"
     ]
    }
   ],
   "source": [
    "password_orig = claripy.BVS('pass_arg', 8*9)\n",
    "pass_arg_orig = angr.PointerWrapper(password_orig, buffer=True)\n",
    "p = angr.Project('fauxware', auto_load_libs=False)\n",
    "simgr = loadproj(p, 0x401209, 0x40124a, pass_arg_orig)\n",
    "p_state = simgr.found[0]"
   ]
  },
  {
   "cell_type": "code",
   "execution_count": 8,
   "id": "e332c248",
   "metadata": {},
   "outputs": [],
   "source": [
    "#fauxware break1 is a function with two accepting condiitons \"SOSNEAKY\" and \"RNRMD@JX\""
   ]
  },
  {
   "cell_type": "code",
   "execution_count": 9,
   "id": "47d87d31",
   "metadata": {},
   "outputs": [
    {
     "name": "stderr",
     "output_type": "stream",
     "text": [
      "The main binary is a position-independent executable. It is being loaded with a base address of 0x400000.\n"
     ]
    }
   ],
   "source": [
    "password_break1 = claripy.BVS('pass_arg', 8*9)\n",
    "pass_arg_break1 = angr.PointerWrapper(password_break1, buffer=True)\n",
    "p_break1 = angr.Project('fauxware-break1', auto_load_libs=False)\n",
    "simgr_break1 = loadproj(p_break1, 0x401209, 0x4012c0, pass_arg_break1)\n",
    "p_break1_state = simgr_break1.found[0]"
   ]
  },
  {
   "cell_type": "code",
   "execution_count": 10,
   "id": "ed67fbc6",
   "metadata": {},
   "outputs": [],
   "source": [
    "#fauxware break2 is functionally the same break1 but condition order is different"
   ]
  },
  {
   "cell_type": "code",
   "execution_count": 11,
   "id": "f9fe3e5a",
   "metadata": {},
   "outputs": [
    {
     "name": "stderr",
     "output_type": "stream",
     "text": [
      "The main binary is a position-independent executable. It is being loaded with a base address of 0x400000.\n"
     ]
    }
   ],
   "source": [
    "password_break2 = claripy.BVS('pass_arg', 8*9)\n",
    "pass_arg_break2 = angr.PointerWrapper(password_break2, buffer=True)\n",
    "p_break2 = angr.Project('fauxware-break2', auto_load_libs=False)\n",
    "simgr_break2 = loadproj(p_break2, 0x401209, 0x4012c0, pass_arg_break2)\n",
    "p_break2_state = simgr_break2.found[0]"
   ]
  },
  {
   "cell_type": "code",
   "execution_count": 12,
   "id": "f320ffb1",
   "metadata": {},
   "outputs": [],
   "source": [
    "#Analysis of equivalence of original and break1"
   ]
  },
  {
   "cell_type": "code",
   "execution_count": 13,
   "id": "1cd9fa1f",
   "metadata": {},
   "outputs": [
    {
     "name": "stdout",
     "output_type": "stream",
     "text": [
      "Satisfiable when orig == break1\n"
     ]
    }
   ],
   "source": [
    "sol_orig_break1 = claripy.Solver()\n",
    "for i in p_state.solver.constraints:\n",
    "    sol_orig_break1.add(i)\n",
    "for i in p_break1_state.solver.constraints:\n",
    "    sol_orig_break1.add(i)\n",
    "if sol_orig_break1.satisfiable(extra_constraints=(password_orig == password_break1,)):\n",
    "    print(\"Satisfiable when orig == break1\")\n",
    "if sol_orig_break1.satisfiable(extra_constraints=(password_orig != password_break1,)):\n",
    "    print(\"Satisfiable when orig != break1\")"
   ]
  },
  {
   "cell_type": "code",
   "execution_count": 14,
   "id": "bb57d089",
   "metadata": {},
   "outputs": [],
   "source": [
    "#Analysis of equivalence of original and break2"
   ]
  },
  {
   "cell_type": "code",
   "execution_count": 15,
   "id": "6070a273",
   "metadata": {},
   "outputs": [
    {
     "name": "stdout",
     "output_type": "stream",
     "text": [
      "Satisfiable when orig != break1\n"
     ]
    }
   ],
   "source": [
    "sol_orig_break2 = claripy.Solver()\n",
    "for i in p_state.solver.constraints:\n",
    "    sol_orig_break2.add(i)\n",
    "for i in p_break2_state.solver.constraints:\n",
    "    sol_orig_break2.add(i)\n",
    "if sol_orig_break2.satisfiable(extra_constraints=(password_orig == password_break2,)):\n",
    "    print(\"Satisfiable when orig == break2\")\n",
    "if sol_orig_break2.satisfiable(extra_constraints=(password_orig != password_break2,)):\n",
    "    print(\"Satisfiable when orig != break2\")"
   ]
  },
  {
   "cell_type": "code",
   "execution_count": 16,
   "id": "a1543f05",
   "metadata": {},
   "outputs": [],
   "source": [
    "#Analysis between break1 and break2"
   ]
  },
  {
   "cell_type": "code",
   "execution_count": 17,
   "id": "89fcea04",
   "metadata": {},
   "outputs": [
    {
     "name": "stdout",
     "output_type": "stream",
     "text": [
      "Satisfiable when break1 != break2\n"
     ]
    }
   ],
   "source": [
    "sol_break1_break2 = claripy.Solver()\n",
    "for i in p_break1_state.solver.constraints:\n",
    "    sol_break1_break2.add(i)\n",
    "for i in p_break2_state.solver.constraints:\n",
    "    sol_break1_break2.add(i)\n",
    "if sol_break1_break2.satisfiable(extra_constraints=(password_break1 == password_break2,)):\n",
    "    print(\"Satisfiable when break1 == break2\")\n",
    "if sol_break1_break2.satisfiable(extra_constraints=(password_break1 != password_break2,)):\n",
    "    print(\"Satisfiable when break1 != break2\")"
   ]
  },
  {
   "cell_type": "code",
   "execution_count": 18,
   "id": "1e5e7b01",
   "metadata": {},
   "outputs": [],
   "source": [
    "# in principle break1 and break2 should be the same however the order of the exploration matters"
   ]
  }
 ],
 "metadata": {
  "kernelspec": {
   "display_name": "Python 3 (ipykernel)",
   "language": "python",
   "name": "python3"
  },
  "language_info": {
   "codemirror_mode": {
    "name": "ipython",
    "version": 3
   },
   "file_extension": ".py",
   "mimetype": "text/x-python",
   "name": "python",
   "nbconvert_exporter": "python",
   "pygments_lexer": "ipython3",
   "version": "3.8.16"
  }
 },
 "nbformat": 4,
 "nbformat_minor": 5
}
